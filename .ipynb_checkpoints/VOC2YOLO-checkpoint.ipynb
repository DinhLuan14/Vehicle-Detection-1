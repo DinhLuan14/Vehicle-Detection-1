{
 "cells": [
  {
   "cell_type": "code",
   "execution_count": null,
   "metadata": {
    "id": "3-9drhA2gtvG"
   },
   "outputs": [],
   "source": [
    "import xml.etree.ElementTree as ET \n",
    "import os  # thu vien dung de xu li file va thu muc\n",
    "import glob"
   ]
  },
  {
   "cell_type": "code",
   "execution_count": null,
   "metadata": {
    "id": "Pj47YctyhnJ3"
   },
   "outputs": [],
   "source": [
    "def Convert2List(file_xml):\n",
    "  tree = ET.parse(file_xml)\n",
    "  root = tree.getroot() \n",
    "  all_lst = []\n",
    "  size = root.find('size')\n",
    "  height = int(size.find('height').text)\n",
    "  width = float(size.find('width').text) \n",
    "  for object in root.findall('object'):\n",
    "    name = object.find('name').text\n",
    "    lst = [name]\n",
    "    for bdb in object.findall('bndbox'):\n",
    "      xmin = int(bdb.find('xmin').text)\n",
    "      xmax = int(bdb.find('xmax').text)\n",
    "      ymin = int(bdb.find('ymin').text)\n",
    "      ymax = int(bdb.find('ymax').text)\n",
    "      \n",
    "      x = round(((xmin + xmax)/2)/width, 6)\n",
    "      y = round(((ymin + ymax)/2)/height, 6)\n",
    "      w = round((xmax - xmin)/width,6)\n",
    "      h = round((ymax - ymin)/height,6)\n",
    "\n",
    "      lst.append(x)\n",
    "      lst.append(y) \n",
    "      lst.append(w)\n",
    "      lst.append(h)\n",
    "    all_lst.append(lst)\n",
    "  return all_lst"
   ]
  },
  {
   "cell_type": "code",
   "execution_count": null,
   "metadata": {
    "id": "QagEAuFuvSi8"
   },
   "outputs": [],
   "source": [
    "path = \"/content/drive/MyDrive/Machine_Learning_Project/dataLabel\"\n",
    "path_out = '/content/drive/MyDrive/Data/ConvertVOC2XML'\n",
    "for filename in glob.glob(os.path.join(path, '*.xml')):\n",
    "    with open(os.path.join(os.getcwd(), filename), 'r') as f: # open in readonly mode\n",
    "      name = filename.replace(path,'')\n",
    "      filename_out = path_out + name.replace('.xml','.txt')\n",
    "      lst = Convert2List(filename)\n",
    "      with open(filename_out, 'w') as file:\n",
    "        for row in lst:\n",
    "          s = \" \".join(map(str, row))\n",
    "          file.write(s+'\\n')"
   ]
  }
 ],
 "metadata": {
  "colab": {
   "collapsed_sections": [],
   "name": "VOC2YOLO.ipynb",
   "provenance": []
  },
  "kernelspec": {
   "display_name": "Python 3",
   "language": "python",
   "name": "python3"
  },
  "language_info": {
   "codemirror_mode": {
    "name": "ipython",
    "version": 3
   },
   "file_extension": ".py",
   "mimetype": "text/x-python",
   "name": "python",
   "nbconvert_exporter": "python",
   "pygments_lexer": "ipython3",
   "version": "3.7.6"
  }
 },
 "nbformat": 4,
 "nbformat_minor": 1
}
